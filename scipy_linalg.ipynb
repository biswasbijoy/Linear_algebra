{
 "cells": [
  {
   "cell_type": "code",
   "execution_count": 1,
   "metadata": {},
   "outputs": [],
   "source": [
    "from scipy import linalg\n",
    "import numpy as np"
   ]
  },
  {
   "cell_type": "code",
   "execution_count": 2,
   "metadata": {},
   "outputs": [],
   "source": [
    "# 3x1 + 2x2 = 12\n",
    "# 2x1 - 1x2 = 1\n",
    "\n",
    "a = np.array([\n",
    "    [3, 2],\n",
    "    [2, -1]\n",
    "])\n",
    "\n",
    "b = np.array([12, 1]).reshape(2, 1)\n"
   ]
  },
  {
   "cell_type": "code",
   "execution_count": 3,
   "metadata": {},
   "outputs": [],
   "source": [
    "ans = np.linalg.solve(a, b)"
   ]
  },
  {
   "cell_type": "code",
   "execution_count": 4,
   "metadata": {},
   "outputs": [
    {
     "name": "stdout",
     "output_type": "stream",
     "text": [
      "[2.] [3.]\n"
     ]
    }
   ],
   "source": [
    "print(*ans)"
   ]
  },
  {
   "cell_type": "code",
   "execution_count": 5,
   "metadata": {},
   "outputs": [],
   "source": [
    "#Meal Plan\n",
    "# Assume that a balanced diet should include the following:\n",
    "\n",
    "# 170 units of vitamin A\n",
    "# 180 units of vitamin B\n",
    "# 140 units of vitamin C\n",
    "# 180 units of vitamin D\n",
    "# 350 units of vitamin E\n",
    "# Task is to find the quantities of each different food in order \n",
    "#to obtain the specified amounts of the necessary vitamins.\n",
    "\n",
    "# The equations -->\n",
    "# x1 + 9x2 + 2x3 + x4 + x5 = 170\n",
    "# 10x1 + x2 + 2x3 + x4 + x5 = 180\n",
    "# x1 + 5x3 + x4 + x5 = 140\n",
    "# 2x1 + x2 + x3 + 2x4 + 9x5 = 180\n",
    "# 2x1 + x2 + 2x3 + 13x4 + 2x5 = 350"
   ]
  },
  {
   "cell_type": "code",
   "execution_count": 6,
   "metadata": {},
   "outputs": [
    {
     "data": {
      "text/plain": [
       "array([[10.],\n",
       "       [10.],\n",
       "       [20.],\n",
       "       [20.],\n",
       "       [10.]])"
      ]
     },
     "execution_count": 6,
     "metadata": {},
     "output_type": "execute_result"
    }
   ],
   "source": [
    "a = np.array([\n",
    "    [1, 9, 2, 1, 1],\n",
    "    [10, 1, 2, 1, 1],\n",
    "    [1, 0, 5, 1, 1],\n",
    "    [2, 1, 1, 2, 9],\n",
    "    [2, 1, 2, 13, 2]\n",
    "])\n",
    "\n",
    "b = np.array([170, 180, 140, 180, 350]).reshape(5, 1)\n",
    "\n",
    "np.linalg.solve(a, b)"
   ]
  },
  {
   "cell_type": "code",
   "execution_count": 12,
   "metadata": {},
   "outputs": [
    {
     "data": {
      "text/plain": [
       "45101.99999999999"
      ]
     },
     "execution_count": 12,
     "metadata": {},
     "output_type": "execute_result"
    }
   ],
   "source": [
    "#Solving Problems Using Matrix Inverses\n",
    "a = np.array([\n",
    "    [1, 9, 2, 1, 1],\n",
    "    [10, 1, 2, 1, 1],\n",
    "    [1, 0, 5, 1, 1],\n",
    "    [2, 1, 1, 2, 9],\n",
    "    [2, 1, 2, 13, 2],\n",
    "])\n",
    "\n",
    "b = np.array([170, 180, 140, 180, 350]).reshape((5, 1))\n",
    "\n",
    "#Check the determination\n",
    "\n",
    "d = linalg.det(a)\n",
    "d"
   ]
  },
  {
   "cell_type": "code",
   "execution_count": 13,
   "metadata": {},
   "outputs": [
    {
     "data": {
      "text/plain": [
       "array([[10.],\n",
       "       [10.],\n",
       "       [20.],\n",
       "       [20.],\n",
       "       [10.]])"
      ]
     },
     "execution_count": 13,
     "metadata": {},
     "output_type": "execute_result"
    }
   ],
   "source": [
    "#solve\n",
    "a_inv = linalg.inv(a)\n",
    "x = a_inv @ b\n",
    "x"
   ]
  },
  {
   "cell_type": "code",
   "execution_count": 15,
   "metadata": {},
   "outputs": [
    {
     "data": {
      "text/plain": [
       "1.9999999999999996"
      ]
     },
     "execution_count": 15,
     "metadata": {},
     "output_type": "execute_result"
    }
   ],
   "source": [
    "#Solve polynomial\n",
    "# a0 + a1 + a3 = 5\n",
    "# a0 + 2.a1 + 4.a2 = 13\n",
    "# a0 + 3a2 + 9a3 = 25\n",
    "\n",
    "a = np.array([\n",
    "    [1, 1, 1],\n",
    "    [1, 2, 4],\n",
    "    [1, 3, 9]\n",
    "])\n",
    "\n",
    "b = np.array([5, 13, 25]).reshape((3, 1))\n",
    "\n",
    "d = linalg.det(a)\n",
    "d"
   ]
  },
  {
   "cell_type": "code",
   "execution_count": 16,
   "metadata": {},
   "outputs": [
    {
     "data": {
      "text/plain": [
       "array([[1.],\n",
       "       [2.],\n",
       "       [2.]])"
      ]
     },
     "execution_count": 16,
     "metadata": {},
     "output_type": "execute_result"
    }
   ],
   "source": [
    "ans = linalg.inv(a) @ b\n",
    "ans"
   ]
  },
  {
   "cell_type": "code",
   "execution_count": null,
   "metadata": {},
   "outputs": [],
   "source": []
  }
 ],
 "metadata": {
  "kernelspec": {
   "display_name": "Python 3",
   "language": "python",
   "name": "python3"
  },
  "language_info": {
   "codemirror_mode": {
    "name": "ipython",
    "version": 3
   },
   "file_extension": ".py",
   "mimetype": "text/x-python",
   "name": "python",
   "nbconvert_exporter": "python",
   "pygments_lexer": "ipython3",
   "version": "3.10.12"
  }
 },
 "nbformat": 4,
 "nbformat_minor": 2
}
